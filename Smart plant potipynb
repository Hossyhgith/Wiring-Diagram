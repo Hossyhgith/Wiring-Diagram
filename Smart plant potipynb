{
  "nbformat": 4,
  "nbformat_minor": 0,
  "metadata": {
    "colab": {
      "provenance": [],
      "authorship_tag": "ABX9TyMEwi6zeS1vvoxM6qE/VF9s",
      "include_colab_link": true
    },
    "kernelspec": {
      "name": "python3",
      "display_name": "Python 3"
    },
    "language_info": {
      "name": "python"
    }
  },
  "cells": [
    {
      "cell_type": "markdown",
      "metadata": {
        "id": "view-in-github",
        "colab_type": "text"
      },
      "source": [
        "<a href=\"https://colab.research.google.com/github/Hossyhgith/Wiring-Diagram/blob/main/Smart%20plant%20potipynb\" target=\"_parent\"><img src=\"https://colab.research.google.com/assets/colab-badge.svg\" alt=\"Open In Colab\"/></a>"
      ]
    },
    {
      "cell_type": "code",
      "execution_count": 1,
      "metadata": {
        "colab": {
          "base_uri": "https://localhost:8080/"
        },
        "id": "BLzxRBh7jcST",
        "outputId": "422abf43-09f3-4a24-d2d5-f211126b4407"
      },
      "outputs": [
        {
          "output_type": "stream",
          "name": "stdout",
          "text": [
            "[通知] ユウキさんへ：\n",
            "現在の土壌水分は 67.2%（2025-07-08 06:00:31 測定）です。\n",
            "✅ 適切な水分量です。\n"
          ]
        }
      ],
      "source": [
        "from datetime import datetime\n",
        "import random\n",
        "\n",
        "# ===== 型（Type） =====\n",
        "class PlantPot:\n",
        "    def __init__(self, id, plant, owner):\n",
        "        self.id = id\n",
        "        self.plant = plant\n",
        "        self.owner = owner\n",
        "\n",
        "    def measure_soil_moisture(self):\n",
        "        moisture = round(random.uniform(0, 100), 1)  # 0～100%で水分量をシミュレート\n",
        "        timestamp = datetime.now()\n",
        "        return SoilMoistureData(moisture, timestamp)\n",
        "\n",
        "class Plant:\n",
        "    def __init__(self, name):\n",
        "        self.name = name\n",
        "\n",
        "class SoilMoistureData:\n",
        "    def __init__(self, value, measured_at):\n",
        "        self.value = value  # 湿度（％）\n",
        "        self.measured_at = measured_at\n",
        "\n",
        "class User:\n",
        "    def __init__(self, name):\n",
        "        self.name = name\n",
        "\n",
        "# ===== 動作関数（射に相当） =====\n",
        "def notify_user_about_soil_moisture(moisture_data, user):\n",
        "    print(f\"[通知] {user.name}さんへ：\")\n",
        "    print(f\"現在の土壌水分は {moisture_data.value}%（{moisture_data.measured_at.strftime('%Y-%m-%d %H:%M:%S')} 測定）です。\")\n",
        "    if moisture_data.value < 30:\n",
        "        print(\"⚠️ 水分が不足しています。水やりが必要です。\")\n",
        "    elif moisture_data.value > 80:\n",
        "        print(\"⚠️ 水分が過剰です。排水を確認してください。\")\n",
        "    else:\n",
        "        print(\"✅ 適切な水分量です。\")\n",
        "\n",
        "# ===== 実行例 =====\n",
        "if __name__ == \"__main__\":\n",
        "    user = User(\"ユウキ\")\n",
        "    plant = Plant(\"バジル\")\n",
        "    pot = PlantPot(\"P01\", plant, user)\n",
        "\n",
        "    # 測定＆通知\n",
        "    moisture_data = pot.measure_soil_moisture()\n",
        "    notify_user_about_soil_moisture(moisture_data, user)\n"
      ]
    }
  ]
}
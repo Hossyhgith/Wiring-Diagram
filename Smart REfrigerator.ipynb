{
  "nbformat": 4,
  "nbformat_minor": 0,
  "metadata": {
    "colab": {
      "provenance": [],
      "authorship_tag": "ABX9TyP0sS0LFT7S/yVpmwM7B9iN",
      "include_colab_link": true
    },
    "kernelspec": {
      "name": "python3",
      "display_name": "Python 3"
    },
    "language_info": {
      "name": "python"
    }
  },
  "cells": [
    {
      "cell_type": "markdown",
      "metadata": {
        "id": "view-in-github",
        "colab_type": "text"
      },
      "source": [
        "<a href=\"https://colab.research.google.com/github/Hossyhgith/Wiring-Diagram/blob/main/Smart%20REfrigerator.ipynb\" target=\"_parent\"><img src=\"https://colab.research.google.com/assets/colab-badge.svg\" alt=\"Open In Colab\"/></a>"
      ]
    },
    {
      "cell_type": "code",
      "source": [
        "from datetime import datetime, timedelta\n",
        "import random\n",
        "\n",
        "# ===== 型（Type） =====\n",
        "class Refrigerator:\n",
        "    def __init__(self, id, owner):\n",
        "        self.id = id\n",
        "        self.owner = owner\n",
        "        self.items = []\n",
        "\n",
        "    def measure_temperature(self):\n",
        "        temp = round(random.uniform(0, 10), 1)\n",
        "        timestamp = datetime.now()\n",
        "        return TemperatureData(temp, timestamp)\n",
        "\n",
        "    def add_item(self, item):\n",
        "        self.items.append(item)\n",
        "\n",
        "class Item:\n",
        "    def __init__(self, name, expiry_date):\n",
        "        self.name = name\n",
        "        self.expiry_date = expiry_date\n",
        "\n",
        "class TemperatureData:\n",
        "    def __init__(self, value, measured_at):\n",
        "        self.value = value\n",
        "        self.measured_at = measured_at\n",
        "\n",
        "class User:\n",
        "    def __init__(self, name):\n",
        "        self.name = name\n",
        "\n",
        "# ===== 射（Arrow）に相当する関数 =====\n",
        "def send_temperature_data_to_user(temp_data, user):\n",
        "    print(f\"[通知] {user.name}さんへ：\")\n",
        "    print(f\"現在の冷蔵庫温度は {temp_data.value}℃（{temp_data.measured_at.strftime('%Y-%m-%d %H:%M:%S')} 測定）です。\")\n",
        "\n",
        "def check_expiry_dates(items, user):\n",
        "    today = datetime.now().date()\n",
        "    for item in items:\n",
        "        if item.expiry_date <= today:\n",
        "            print(f\"[警告] {user.name}さん、'{item.name}' の賞味期限が切れています！\")\n",
        "        elif item.expiry_date - today <= timedelta(days=2):\n",
        "            print(f\"[注意] '{item.name}' の賞味期限が近づいています（{item.expiry_date}）。\")\n",
        "\n",
        "# ===== 実行例 =====\n",
        "if __name__ == \"__main__\":\n",
        "    user = User(\"ユウキ\")\n",
        "    fridge = Refrigerator(\"F01\", user)\n",
        "\n",
        "    # 食材追加\n",
        "    fridge.add_item(Item(\"牛乳\", datetime.now().date() + timedelta(days=1)))\n",
        "    fridge.add_item(Item(\"ヨーグルト\", datetime.now().date() - timedelta(days=1)))\n",
        "    fridge.add_item(Item(\"卵\", datetime.now().date() + timedelta(days=5)))\n",
        "\n",
        "    # 温度測定＆通知\n",
        "    temp_data = fridge.measure_temperature()\n",
        "    send_temperature_data_to_user(temp_data, user)\n",
        "\n",
        "    # 賞味期限チェック\n",
        "    check_expiry_dates(fridge.items, user)\n"
      ],
      "metadata": {
        "colab": {
          "base_uri": "https://localhost:8080/"
        },
        "id": "bgU2GfU7hL6x",
        "outputId": "94477612-1812-42f8-d983-05d719b2b2df"
      },
      "execution_count": 3,
      "outputs": [
        {
          "output_type": "stream",
          "name": "stdout",
          "text": [
            "[通知] ユウキさんへ：\n",
            "現在の冷蔵庫温度は 7.7℃（2025-07-08 05:31:48 測定）です。\n",
            "[注意] '牛乳' の賞味期限が近づいています（2025-07-09）。\n",
            "[警告] ユウキさん、'ヨーグルト' の賞味期限が切れています！\n"
          ]
        }
      ]
    }
  ]
}